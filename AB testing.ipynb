{
 "cells": [
  {
   "cell_type": "markdown",
   "metadata": {},
   "source": [
    "# A/B Testing Final Project\n",
    "\n",
    "This is my walkthrough of the final project for Udacity's course on A/B Testing. The project description is:\n",
    "\n",
    "> At the time of this experiment, Udacity courses currently have two options on the course overview page: \"start free trial\", and \"access course materials\". If the student clicks \"start free trial\", they will be asked to enter their credit card information, and then they will be enrolled in a free trial for the paid version of the course. After 14 days, they will automatically be charged unless they cancel first. If the student clicks \"access course materials\", they will be able to view the videos and take the quizzes for free, but they will not receive coaching support or a verified certificate, and they will not submit their final project for feedback.\n",
    "\n",
    "> In the experiment, Udacity tested a change where if the student clicked \"start free trial\", they were asked how much time they had available to devote to the course. If the student indicated 5 or more hours per week, they would be taken through the checkout process as usual. If they indicated fewer than 5 hours per week, a message would appear indicating that Udacity courses usually require a greater time commitment for successful completion, and suggesting that the student might like to access the course materials for free. At this point, the student would have the option to continue enrolling in the free trial, or access the course materials for free instead.\n",
    "\n",
    "> The hypothesis was that this might set clearer expectations for students upfront, thus reducing the number of frustrated students who left the free trial because they didn't have enough time—without significantly reducing the number of students to continue past the free trial and eventually complete the course. If this hypothesis held true, Udacity could improve the overall student experience and improve coaches' capacity to support students who are likely to complete the course.\n",
    "\n",
    "> The unit of diversion is a cookie, although if the student enrolls in the free trial, they are tracked by user-id from that point forward. The same user-id cannot enroll in the free trial twice. For users that do not enroll, their user-id is not tracked in the experiment, even if they were signed in when they visited the course overview page."
   ]
  },
  {
   "cell_type": "code",
   "execution_count": 46,
   "metadata": {},
   "outputs": [],
   "source": [
    "import numpy as np\n",
    "import scipy.stats as stats\n",
    "import math\n",
    "import os\n",
    "import pandas as pd\n",
    "control = pd.read_csv('Final_Project_Control.csv')\n",
    "experiment = pd.read_csv('Final_Project_Experiment.csv')"
   ]
  },
  {
   "cell_type": "markdown",
   "metadata": {},
   "source": [
    "## Experiment Design\n",
    "\n",
    "To begin, we must select invariant and evaluation metrics. Invariant metrics are used to compare both groups after the data is collected, and if they are significantly different we know something went wrong in the data collection process. Evaluation metrics will actually be used to tell if the experiment is a success or not as these should not be the same between groups. These are all the collected metrics, followed by their description and then their practical significance boundary.\n",
    "\n",
    "| Metric | Description | D_min |\n",
    "| --- | ----------- | --- |\n",
    "| Number of cookies | Number of unique cookies to view the course overview page | 3000 |\n",
    "| Number of user-ids | Number of users who enroll in the free trial | 50 |\n",
    "| Number of clicks | Number of unique cookies to click the \"Start free trial\" button (which happens before the free trial screener is trigger) | 240 |\n",
    "| Click-through-probability | Number of unique cookies to click the \"Start free trial\" button divided by number of unique cookies to view the course overview page | .01 |\n",
    "| Gross conversion | Number of user-ids to complete checkout and enroll in the free trial divided by number of unique cookies to click the \"Start free trial\" button | .01 |\n",
    "| Retention |  Number of user-ids to remain enrolled past the 14-day boundary (and thus make at least one payment) divided by number of user-ids to complete checkout | .01 |\n",
    "| Net conversion | number of user-ids to remain enrolled past the 14-day boundary (and thus make at least one payment) divided by the number of unique cookies to click the \"Start free trial\" button | .0075 |\n",
    "\n",
    "\n",
    "We use number of cookies and click through probability as invariant metrics, and gross conversion, retention, and net conversion as evaluation metrics. We selected number of cookies and click through probability as invariant metrics because these metrics are collected before the prompt asking how many hours a week they are willing to spend is triggered. Our evaluation metrics were chosen because we expect each of those values to be impacted by the prompt.\n",
    "\n",
    "\n",
    "\n"
   ]
  },
  {
   "cell_type": "markdown",
   "metadata": {},
   "source": [
    "## Baseline Values\n",
    "\n",
    "To get started, we need to know our baseline values. The given values are:\n",
    "\n",
    "| Metric | Value | \n",
    "| --- | -------- | \n",
    "| Unique cookies to view course overview page per day | 40,000 |\n",
    "| Unique cookies to click \"Start free trial\" per day | 3,200 |\n",
    "| Enrollments per day | 660 |\n",
    "| Click-through-probability on \"Start free trial\" | .08 | \n",
    "| Probability of enrolling, given click| .20625|\n",
    "| Probability of payment, given enroll| .53 |\n",
    "| Probability of payment, given click| 0.1093125|\n",
    "\n"
   ]
  },
  {
   "cell_type": "markdown",
   "metadata": {},
   "source": [
    "## Measuring Standard Deviation\n",
    "\n",
    "The analytic standard deviation for each metric is given by the following formula \n",
    "\n",
    "$ SD = \\sqrt{p*(1-p)/n}$\n",
    "\n",
    "where p is the probability, and n is the sample size. We are told to use a sample size of 5000, so we must scale the given baseline values by account for this.\n"
   ]
  },
  {
   "cell_type": "code",
   "execution_count": 16,
   "metadata": {},
   "outputs": [],
   "source": [
    "def analytic_sd(p, n):\n",
    "    return round(math.sqrt(p*(1-p)/n), 4)"
   ]
  },
  {
   "cell_type": "code",
   "execution_count": 17,
   "metadata": {},
   "outputs": [
    {
     "data": {
      "text/plain": [
       "0.0202"
      ]
     },
     "execution_count": 17,
     "metadata": {},
     "output_type": "execute_result"
    }
   ],
   "source": [
    "# Standard Deviation for gross conversion. 400 is the sample size because 400=3200*1/8\n",
    "gc_sd = analytic_sd(.20625, 400)\n",
    "gc_sd"
   ]
  },
  {
   "cell_type": "code",
   "execution_count": 18,
   "metadata": {},
   "outputs": [
    {
     "data": {
      "text/plain": [
       "0.0549"
      ]
     },
     "execution_count": 18,
     "metadata": {},
     "output_type": "execute_result"
    }
   ],
   "source": [
    "# Standard Deviation for retention. 82.5 is sample size because 82.5 = 660*1/8\n",
    "r_sd = analytic_sd(.53, 82.5)\n",
    "r_sd"
   ]
  },
  {
   "cell_type": "code",
   "execution_count": 19,
   "metadata": {},
   "outputs": [
    {
     "data": {
      "text/plain": [
       "0.0156"
      ]
     },
     "execution_count": 19,
     "metadata": {},
     "output_type": "execute_result"
    }
   ],
   "source": [
    "# Standard Deviation for net conversion\n",
    "nc_sd = analytic_sd(.1093125, 400)\n",
    "nc_sd"
   ]
  },
  {
   "cell_type": "markdown",
   "metadata": {},
   "source": [
    "## Experiment sizing\n",
    "\n",
    "We must now estimate how many page views we need to adequately power the experiment, given alpha = .05 and beta = .2. We can use the online calculator linked in the Instructor's notes, found [here](https://www.evanmiller.org/ab-testing/sample-size.html).\n",
    "\n",
    "From this, we find that we need the sample sizes\n",
    "\n",
    "Gross conversion - 25,835\n",
    "\n",
    "Retention - 39,115\n",
    "\n",
    "Net conversion - 27,413\n",
    "\n",
    "However, we need to convert this from its original units to page views. This is done by dividing by the sample size by the click-through-probability .08 for the conversion metrics and the enrollment/pageview value of .0165, and then multiplying by 2 because we have a control and experiment group. This results in "
   ]
  },
  {
   "cell_type": "code",
   "execution_count": 38,
   "metadata": {},
   "outputs": [
    {
     "name": "stdout",
     "output_type": "stream",
     "text": [
      "Page views required for gross conversion: 645875\n",
      "Page views required for retention: 4741212\n",
      "Page views required for net conversion: 685325\n"
     ]
    }
   ],
   "source": [
    "print(\"Page views required for gross conversion: \" + str(round(25835/.08 * 2)))\n",
    "print(\"Page views required for retention: \" + str(round(39115/.0165 * 2)))\n",
    "print(\"Page views required for net conversion: \" + str(round(27413/.08 * 2)))\n"
   ]
  },
  {
   "cell_type": "markdown",
   "metadata": {},
   "source": [
    "Since we only have 40,000 unique cookies to view course overview page in a day, if we divert 100% of the traffic it will take:"
   ]
  },
  {
   "cell_type": "code",
   "execution_count": 216,
   "metadata": {},
   "outputs": [
    {
     "name": "stdout",
     "output_type": "stream",
     "text": [
      "Days required for gross conversion: 16\n",
      "Days required for retention: 119\n",
      "Days required for net conversion: 17\n"
     ]
    }
   ],
   "source": [
    "print(\"Days required for gross conversion: \" + str(round(round(25835/.08 * 2)/40000)))\n",
    "print(\"Days required for retention: \" + str(round(round(39115/.0165 * 2)/40000)))\n",
    "print(\"Days required for net conversion: \" + str(round(round(27413/.08 * 2)/40000)))"
   ]
  },
  {
   "cell_type": "markdown",
   "metadata": {},
   "source": [
    "While retention is a decent evaluation metric, it simply takes too long to gather the necessary data, and so we will drop it from our analysis. We also don't want to have 100% of the traffic being diverted into the experiment. If we instead only take 75% of the traffic, we get"
   ]
  },
  {
   "cell_type": "code",
   "execution_count": 217,
   "metadata": {},
   "outputs": [
    {
     "name": "stdout",
     "output_type": "stream",
     "text": [
      "Days required for gross conversion: 22\n",
      "Days required for net conversion: 23\n"
     ]
    }
   ],
   "source": [
    "print(\"Days required for gross conversion: \" + str(round(round(25835/.08 * 2)/(40000*.75))))\n",
    "print(\"Days required for net conversion: \" + str(round(round(27413/.08 * 2)/(40000*.75))))"
   ]
  },
  {
   "cell_type": "markdown",
   "metadata": {},
   "source": [
    "And since we need enough power for both metrics, we choose the larger of the two values, 685,325 as our required number of page views"
   ]
  },
  {
   "cell_type": "markdown",
   "metadata": {},
   "source": [
    "## Sanity Checks\n",
    "\n",
    "Now it is time to check our invariant metrics and make sure nothing went wrong in the data collection process. To do this, we test the metrics at the 95% confidence interval. We've defined a function to perform the invariant test for the number of cookies and number of clicks, and since click through probability is a difference, we write out the code separately "
   ]
  },
  {
   "cell_type": "code",
   "execution_count": 214,
   "metadata": {},
   "outputs": [
    {
     "data": {
      "text/html": [
       "<div>\n",
       "<style scoped>\n",
       "    .dataframe tbody tr th:only-of-type {\n",
       "        vertical-align: middle;\n",
       "    }\n",
       "\n",
       "    .dataframe tbody tr th {\n",
       "        vertical-align: top;\n",
       "    }\n",
       "\n",
       "    .dataframe thead th {\n",
       "        text-align: right;\n",
       "    }\n",
       "</style>\n",
       "<table border=\"1\" class=\"dataframe\">\n",
       "  <thead>\n",
       "    <tr style=\"text-align: right;\">\n",
       "      <th></th>\n",
       "      <th>Date</th>\n",
       "      <th>Pageviews</th>\n",
       "      <th>Clicks</th>\n",
       "      <th>Enrollments</th>\n",
       "      <th>Payments</th>\n",
       "    </tr>\n",
       "  </thead>\n",
       "  <tbody>\n",
       "    <tr>\n",
       "      <th>0</th>\n",
       "      <td>Sat, Oct 11</td>\n",
       "      <td>7723</td>\n",
       "      <td>687</td>\n",
       "      <td>134.0</td>\n",
       "      <td>70.0</td>\n",
       "    </tr>\n",
       "    <tr>\n",
       "      <th>1</th>\n",
       "      <td>Sun, Oct 12</td>\n",
       "      <td>9102</td>\n",
       "      <td>779</td>\n",
       "      <td>147.0</td>\n",
       "      <td>70.0</td>\n",
       "    </tr>\n",
       "    <tr>\n",
       "      <th>2</th>\n",
       "      <td>Mon, Oct 13</td>\n",
       "      <td>10511</td>\n",
       "      <td>909</td>\n",
       "      <td>167.0</td>\n",
       "      <td>95.0</td>\n",
       "    </tr>\n",
       "    <tr>\n",
       "      <th>3</th>\n",
       "      <td>Tue, Oct 14</td>\n",
       "      <td>9871</td>\n",
       "      <td>836</td>\n",
       "      <td>156.0</td>\n",
       "      <td>105.0</td>\n",
       "    </tr>\n",
       "    <tr>\n",
       "      <th>4</th>\n",
       "      <td>Wed, Oct 15</td>\n",
       "      <td>10014</td>\n",
       "      <td>837</td>\n",
       "      <td>163.0</td>\n",
       "      <td>64.0</td>\n",
       "    </tr>\n",
       "  </tbody>\n",
       "</table>\n",
       "</div>"
      ],
      "text/plain": [
       "          Date  Pageviews  Clicks  Enrollments  Payments\n",
       "0  Sat, Oct 11       7723     687        134.0      70.0\n",
       "1  Sun, Oct 12       9102     779        147.0      70.0\n",
       "2  Mon, Oct 13      10511     909        167.0      95.0\n",
       "3  Tue, Oct 14       9871     836        156.0     105.0\n",
       "4  Wed, Oct 15      10014     837        163.0      64.0"
      ]
     },
     "execution_count": 214,
     "metadata": {},
     "output_type": "execute_result"
    }
   ],
   "source": [
    "control.head()"
   ]
  },
  {
   "cell_type": "code",
   "execution_count": 215,
   "metadata": {},
   "outputs": [
    {
     "data": {
      "text/html": [
       "<div>\n",
       "<style scoped>\n",
       "    .dataframe tbody tr th:only-of-type {\n",
       "        vertical-align: middle;\n",
       "    }\n",
       "\n",
       "    .dataframe tbody tr th {\n",
       "        vertical-align: top;\n",
       "    }\n",
       "\n",
       "    .dataframe thead th {\n",
       "        text-align: right;\n",
       "    }\n",
       "</style>\n",
       "<table border=\"1\" class=\"dataframe\">\n",
       "  <thead>\n",
       "    <tr style=\"text-align: right;\">\n",
       "      <th></th>\n",
       "      <th>Date</th>\n",
       "      <th>Pageviews</th>\n",
       "      <th>Clicks</th>\n",
       "      <th>Enrollments</th>\n",
       "      <th>Payments</th>\n",
       "    </tr>\n",
       "  </thead>\n",
       "  <tbody>\n",
       "    <tr>\n",
       "      <th>0</th>\n",
       "      <td>Sat, Oct 11</td>\n",
       "      <td>7716</td>\n",
       "      <td>686</td>\n",
       "      <td>105.0</td>\n",
       "      <td>34.0</td>\n",
       "    </tr>\n",
       "    <tr>\n",
       "      <th>1</th>\n",
       "      <td>Sun, Oct 12</td>\n",
       "      <td>9288</td>\n",
       "      <td>785</td>\n",
       "      <td>116.0</td>\n",
       "      <td>91.0</td>\n",
       "    </tr>\n",
       "    <tr>\n",
       "      <th>2</th>\n",
       "      <td>Mon, Oct 13</td>\n",
       "      <td>10480</td>\n",
       "      <td>884</td>\n",
       "      <td>145.0</td>\n",
       "      <td>79.0</td>\n",
       "    </tr>\n",
       "    <tr>\n",
       "      <th>3</th>\n",
       "      <td>Tue, Oct 14</td>\n",
       "      <td>9867</td>\n",
       "      <td>827</td>\n",
       "      <td>138.0</td>\n",
       "      <td>92.0</td>\n",
       "    </tr>\n",
       "    <tr>\n",
       "      <th>4</th>\n",
       "      <td>Wed, Oct 15</td>\n",
       "      <td>9793</td>\n",
       "      <td>832</td>\n",
       "      <td>140.0</td>\n",
       "      <td>94.0</td>\n",
       "    </tr>\n",
       "  </tbody>\n",
       "</table>\n",
       "</div>"
      ],
      "text/plain": [
       "          Date  Pageviews  Clicks  Enrollments  Payments\n",
       "0  Sat, Oct 11       7716     686        105.0      34.0\n",
       "1  Sun, Oct 12       9288     785        116.0      91.0\n",
       "2  Mon, Oct 13      10480     884        145.0      79.0\n",
       "3  Tue, Oct 14       9867     827        138.0      92.0\n",
       "4  Wed, Oct 15       9793     832        140.0      94.0"
      ]
     },
     "execution_count": 215,
     "metadata": {},
     "output_type": "execute_result"
    }
   ],
   "source": [
    "experiment.head()"
   ]
  },
  {
   "cell_type": "code",
   "execution_count": 60,
   "metadata": {},
   "outputs": [],
   "source": [
    "def get_z_star(alpha):\n",
    "    return stats.norm().interval(1-alpha)[1]\n",
    "\n",
    "def invariant_test(n_control, n_exp, alpha = .05, p = .5):\n",
    "    sd = math.sqrt((p*(1-p))/(n_control+n_exp))\n",
    "    z_star = get_z_star(alpha)\n",
    "    m = sd * z_star\n",
    "    lower = p-m\n",
    "    upper = p+m\n",
    "    p_hat = n_control/(n_control+n_exp)\n",
    "    print(\"Lower confidence level: \" + str(round(lower, 4)))\n",
    "    print(\"Upper confidence level: \" + str(round(upper, 4)))\n",
    "    print(\"P_hat: \" + str(round(p_hat, 4)))\n",
    "    if p_hat > upper or p_hat < lower:\n",
    "        print(\"Does not pass sanity check\")\n",
    "    elif p_hat < upper and p_hat > lower:\n",
    "        print(\"Does pass sanity check\")"
   ]
  },
  {
   "cell_type": "code",
   "execution_count": 218,
   "metadata": {},
   "outputs": [
    {
     "name": "stdout",
     "output_type": "stream",
     "text": [
      "Number of pageviews in control: 345543\n",
      "Number of pageviews in experiment: 344660\n",
      "\n",
      "Clicks in control: 28378\n",
      "Clicks in experiment: 28325\n",
      "\n",
      "Click through probability in control: 0.0821\n",
      "Click through probability in experiment: 0.0822\n"
     ]
    }
   ],
   "source": [
    "n_cookies_control = control['Pageviews'].sum()\n",
    "n_cookies_experiment = experiment['Pageviews'].sum()\n",
    "print(\"Number of pageviews in control: \" + str(n_cookies_control))\n",
    "print(\"Number of pageviews in experiment: \" + str(n_cookies_experiment))\n",
    "\n",
    "\n",
    "n_clicks_control = control['Clicks'].sum()\n",
    "n_clicks_experiment = experiment['Clicks'].sum()\n",
    "print(\"\\nClicks in control: \" + str(n_clicks_control))\n",
    "print(\"Clicks in experiment: \" + str(n_clicks_experiment))\n",
    "\n",
    "\n",
    "ctp_control = control['Clicks'].sum()/control['Pageviews'].sum()\n",
    "ctp_experiment = experiment['Clicks'].sum()/experiment['Pageviews'].sum()\n",
    "print(\"\\nClick through probability in control: \" + str(round(ctp_control,4)))\n",
    "print(\"Click through probability in experiment: \" + str(round(ctp_experiment, 4)))"
   ]
  },
  {
   "cell_type": "code",
   "execution_count": 219,
   "metadata": {},
   "outputs": [
    {
     "name": "stdout",
     "output_type": "stream",
     "text": [
      "Invariant test for number of cookies\n",
      "Lower confidence level: 0.4988\n",
      "Upper confidence level: 0.5012\n",
      "P_hat: 0.5006\n",
      "Does pass sanity check\n"
     ]
    }
   ],
   "source": [
    "print(\"Invariant test for number of cookies:\")\n",
    "invariant_test(n_cookies_control, n_cookies_experiment)"
   ]
  },
  {
   "cell_type": "code",
   "execution_count": 220,
   "metadata": {},
   "outputs": [
    {
     "name": "stdout",
     "output_type": "stream",
     "text": [
      "Invariant test for number of clicks:\n",
      "Lower confidence level: 0.4959\n",
      "Upper confidence level: 0.5041\n",
      "P_hat: 0.5005\n",
      "Does pass sanity check\n"
     ]
    }
   ],
   "source": [
    "print(\"Invariant test for number of clicks:\")\n",
    "invariant_test(n_clicks_control, n_clicks_experiment)"
   ]
  },
  {
   "cell_type": "code",
   "execution_count": 223,
   "metadata": {},
   "outputs": [
    {
     "name": "stdout",
     "output_type": "stream",
     "text": [
      "Invariant test for click-through-probability:\n",
      "Lower margin of error: -0.0013\n",
      "Upper margin of error: 0.0013\n",
      "d_hat: 0.0001\n",
      "Does pass sanity check\n"
     ]
    }
   ],
   "source": [
    "d_hat = ctp_experiment - ctp_control\n",
    "p_hat_pooled = (control['Clicks'].sum() + experiment['Clicks'].sum())/(control['Pageviews'].sum()+experiment['Pageviews'].sum())\n",
    "pooled_sd = math.sqrt((p_hat_pooled*(1-p_hat_pooled))*(1/control['Pageviews'].sum()+1/experiment['Pageviews'].sum()))\n",
    "z_star = get_z_star(.05)\n",
    "m = pooled_sd * z_star\n",
    "print(\"Invariant test for click-through-probability:\")\n",
    "print(\"Lower margin of error: \" + str(round(-m, 4)))\n",
    "print(\"Upper margin of error: \" + str(round(m, 4)))\n",
    "print(\"d_hat: \" + str(round(d_hat, 4)))\n",
    "print(\"Does pass sanity check\")"
   ]
  },
  {
   "cell_type": "markdown",
   "metadata": {},
   "source": [
    "## Effect Size Tests\n",
    "\n",
    "Now that we've passed our sanity checks, we can proceed to check our evaluation metrics and see if they are significant. To do this, we must exclude the dates that have any null values. We then sum the necessary variables, calculed the pooled probability and pooled standard deviation, and test its significance at the 95% confidence level."
   ]
  },
  {
   "cell_type": "code",
   "execution_count": 183,
   "metadata": {},
   "outputs": [
    {
     "name": "stdout",
     "output_type": "stream",
     "text": [
      "Difference due to experiment: -0.0206\n",
      "Lower confidence Interval:-0.0291\n",
      "Upper confidence interval:-0.012\n"
     ]
    }
   ],
   "source": [
    "#Gross conversion\n",
    "clicks_control = control['Clicks'].loc[control['Enrollments'].notnull()].sum()\n",
    "clicks_experiment = experiment['Clicks'].loc[experiment['Enrollments'].notnull()].sum()\n",
    "\n",
    "enrollments_control = control['Enrollments'].sum()\n",
    "enrollments_experiment = experiment['Enrollments'].sum()\n",
    "\n",
    "GC_control = enrollments_control/clicks_control\n",
    "GC_experiment = enrollments_experiment/clicks_experiment\n",
    "\n",
    "GC_pooled = (enrollments_control+enrollments_experiment)/(clicks_control+clicks_experiment)\n",
    "GC_pooled_sd = math.sqrt(GC_pooled*(1-GC_pooled)*(1/clicks_control + 1/clicks_experiment))\n",
    "m = get_z_star(.05) * GC_pooled_sd\n",
    "d_hat = GC_experiment - GC_control\n",
    "print(\"Difference due to experiment: \" + str(round(d_hat, 4)))\n",
    "print(\"Lower confidence interval:\" + str(round(d_hat - m, 4)))\n",
    "print(\"Upper confidence interval:\" + str(round(d_hat+m, 4)))"
   ]
  },
  {
   "cell_type": "markdown",
   "metadata": {},
   "source": [
    "Since the confidence interval does not contain 0 our results are statistically signficant. Moreover, since the difference due to the experiment is greater than the absolute value of d_min, our results for gross conversion are practically significant."
   ]
  },
  {
   "cell_type": "code",
   "execution_count": 185,
   "metadata": {},
   "outputs": [
    {
     "name": "stdout",
     "output_type": "stream",
     "text": [
      "Difference due to experiment: -0.0049\n",
      "Lower confidence Interval:-0.0116\n",
      "Upper confidence interval:0.0019\n"
     ]
    }
   ],
   "source": [
    "#Net conversion\n",
    "payments_control = control['Payments'].sum()\n",
    "payments_experiment = experiment['Payments'].sum()\n",
    "\n",
    "NC_control = payments_control/clicks_control\n",
    "NC_experiment = payments_experiment/clicks_experiment\n",
    "\n",
    "NC_pooled = (payments_control+payments_experiment)/(clicks_control+clicks_experiment)\n",
    "NC_pooled_sd = math.sqrt(NC_pooled*(1-NC_pooled)*(1/clicks_control + 1/clicks_experiment))\n",
    "m = get_z_star(.05) * NC_pooled_sd\n",
    "d_hat = NC_experiment - NC_control\n",
    "print(\"Difference due to experiment: \" + str(round(d_hat, 4)))\n",
    "print(\"Lower confidence Interval:\" + str(round(d_hat - m, 4)))\n",
    "print(\"Upper confidence interval:\" + str(round(d_hat+m, 4)))"
   ]
  },
  {
   "cell_type": "markdown",
   "metadata": {},
   "source": [
    "Our results for net conversion are not statistically significant since 0 is in the confidence interval. Similarly, our observed difference is not larger than the absolute value of .0075, so our results are not practically significant."
   ]
  },
  {
   "cell_type": "markdown",
   "metadata": {},
   "source": [
    "To further test our data, we now run sign tests on days in which the experiment value is larger than the control, and test its significance with a two-sided binomial test. If there is no difference in our data, then the experiment value should be larger than control half of the time. Therefor, we count the number of days in which the experiment is larger than the control and test whether the observed value is significantly different than .5. "
   ]
  },
  {
   "cell_type": "code",
   "execution_count": 224,
   "metadata": {},
   "outputs": [],
   "source": [
    "def sign_test(Xs_cont,Xs_exp, Ns_cont , Ns_exp):\n",
    "    n_days= len(Xs_cont)\n",
    "    n_pos = 0\n",
    "    exp_ctr = np.array(Xs_exp)/np.array(Ns_exp)\n",
    "    control_ctr = np.array(Xs_cont)/np.array(Ns_cont)\n",
    "    for i in range(n_days):\n",
    "        if exp_ctr[i] > control_ctr[i]:\n",
    "            n_pos+=1\n",
    "    print(\"p-value: \" + str(round(stats.binom_test(n_pos, n_days), 4)))"
   ]
  },
  {
   "cell_type": "code",
   "execution_count": 225,
   "metadata": {},
   "outputs": [],
   "source": [
    "full_data = control.merge(experiment, how = 'inner', on = 'Date', suffixes = ('_control', '_experiment'))"
   ]
  },
  {
   "cell_type": "code",
   "execution_count": 226,
   "metadata": {},
   "outputs": [
    {
     "name": "stdout",
     "output_type": "stream",
     "text": [
      "<class 'pandas.core.frame.DataFrame'>\n",
      "Int64Index: 23 entries, 0 to 22\n",
      "Data columns (total 9 columns):\n",
      " #   Column                  Non-Null Count  Dtype  \n",
      "---  ------                  --------------  -----  \n",
      " 0   Date                    23 non-null     object \n",
      " 1   Pageviews_control       23 non-null     int64  \n",
      " 2   Clicks_control          23 non-null     int64  \n",
      " 3   Enrollments_control     23 non-null     float64\n",
      " 4   Payments_control        23 non-null     float64\n",
      " 5   Pageviews_experiment    23 non-null     int64  \n",
      " 6   Clicks_experiment       23 non-null     int64  \n",
      " 7   Enrollments_experiment  23 non-null     float64\n",
      " 8   Payments_experiment     23 non-null     float64\n",
      "dtypes: float64(4), int64(4), object(1)\n",
      "memory usage: 1.8+ KB\n"
     ]
    }
   ],
   "source": [
    "full_data = full_data.loc[full_data[\"Enrollments_control\"].notnull()]\n",
    "full_data.info()"
   ]
  },
  {
   "cell_type": "code",
   "execution_count": 227,
   "metadata": {},
   "outputs": [
    {
     "name": "stdout",
     "output_type": "stream",
     "text": [
      "p-value: 0.0026\n"
     ]
    }
   ],
   "source": [
    "sign_test(full_data['Enrollments_control'], full_data['Enrollments_experiment'], full_data['Pageviews_control'], full_data['Pageviews_experiment'])"
   ]
  },
  {
   "cell_type": "code",
   "execution_count": 228,
   "metadata": {},
   "outputs": [
    {
     "name": "stdout",
     "output_type": "stream",
     "text": [
      "p-value: 0.6776\n"
     ]
    }
   ],
   "source": [
    "sign_test(full_data['Payments_control'], full_data['Payments_experiment'], full_data['Pageviews_control'], full_data['Pageviews_experiment'])"
   ]
  },
  {
   "cell_type": "markdown",
   "metadata": {},
   "source": [
    "The sign test for gross conversion is statistically signficant at the 95% confidence level since the p-value is less than .05. However, the sign test for net conversion is not statistically significant. "
   ]
  },
  {
   "cell_type": "markdown",
   "metadata": {},
   "source": [
    "## Recommendations\n",
    "\n",
    "While we found that the change is statistically significant at changing the gross conversion rates, we find that there is not enough evidence of it changing net conversion rates. Since the ultimate goal is to increase the net conversion rate, we do not recommend launching this change. "
   ]
  }
 ],
 "metadata": {
  "kernelspec": {
   "display_name": "Python 3",
   "language": "python",
   "name": "python3"
  },
  "language_info": {
   "codemirror_mode": {
    "name": "ipython",
    "version": 3
   },
   "file_extension": ".py",
   "mimetype": "text/x-python",
   "name": "python",
   "nbconvert_exporter": "python",
   "pygments_lexer": "ipython3",
   "version": "3.6.12"
  }
 },
 "nbformat": 4,
 "nbformat_minor": 4
}
